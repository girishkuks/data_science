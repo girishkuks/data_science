{
  "cells": [
    {
      "cell_type": "markdown",
      "metadata": {
        "id": "view-in-github",
        "colab_type": "text"
      },
      "source": [
        "<a href=\"https://colab.research.google.com/github/girishkuks/data_science/blob/main/sample1.ipynb\" target=\"_parent\"><img src=\"https://colab.research.google.com/assets/colab-badge.svg\" alt=\"Open In Colab\"/></a>"
      ]
    },
    {
      "cell_type": "code",
      "execution_count": 2,
      "id": "0a64a81e-9a6f-4f13-8d94-49760ce1766d",
      "metadata": {
        "colab": {
          "base_uri": "https://localhost:8080/"
        },
        "id": "0a64a81e-9a6f-4f13-8d94-49760ce1766d",
        "outputId": "657c804c-369a-47f4-ec9a-19c2f1711acf"
      },
      "outputs": [
        {
          "output_type": "stream",
          "name": "stdout",
          "text": [
            "Maximum of each subarray of length 3 is: [3, 3, 2, 5]\n"
          ]
        }
      ],
      "source": [
        "def max_of_subarrays(arr, k):\n",
        "    n = len(arr)\n",
        "    if n * k == 0 or k > n:\n",
        "        return []\n",
        "\n",
        "    result = []\n",
        "    deq = []\n",
        "\n",
        "    for i in range(n):\n",
        "        # Remove elements not in the current window\n",
        "        if deq and deq[0] == i - k:\n",
        "            deq.pop(0)\n",
        "\n",
        "        # Remove elements smaller than the current element from the deque\n",
        "        while deq and arr[deq[-1]] < arr[i]:\n",
        "            deq.pop()\n",
        "\n",
        "        # Add the current element at the end of the deque\n",
        "        deq.append(i)\n",
        "\n",
        "        # Start adding the maximums of the windows to the result list\n",
        "        if i >= k - 1:\n",
        "            result.append(arr[deq[0]])\n",
        "\n",
        "    return result\n",
        "\n",
        "# Example usage\n",
        "arr = [1, 3, 1, 2, 0, 5]\n",
        "k = 3\n",
        "print(\"Maximum of each subarray of length\", k, \"is:\", max_of_subarrays(arr, k))"
      ]
    },
    {
      "cell_type": "code",
      "execution_count": null,
      "id": "8b774728-8dcf-4966-a11d-122962816093",
      "metadata": {
        "id": "8b774728-8dcf-4966-a11d-122962816093"
      },
      "outputs": [],
      "source": []
    }
  ],
  "metadata": {
    "kernelspec": {
      "display_name": "Python 3 (ipykernel)",
      "language": "python",
      "name": "python3"
    },
    "language_info": {
      "codemirror_mode": {
        "name": "ipython",
        "version": 3
      },
      "file_extension": ".py",
      "mimetype": "text/x-python",
      "name": "python",
      "nbconvert_exporter": "python",
      "pygments_lexer": "ipython3",
      "version": "3.11.7"
    },
    "colab": {
      "provenance": [],
      "include_colab_link": true
    }
  },
  "nbformat": 4,
  "nbformat_minor": 5
}